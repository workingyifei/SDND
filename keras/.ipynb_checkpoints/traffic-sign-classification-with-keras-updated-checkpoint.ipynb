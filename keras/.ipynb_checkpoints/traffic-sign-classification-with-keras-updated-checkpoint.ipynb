{
 "cells": [
  {
   "cell_type": "markdown",
   "metadata": {},
   "source": [
    "# Traffic Sign Classification with Keras\n",
    "\n",
    "Keras exists to make coding deep neural networks simpler. To demonstrate just how easy it is, you’re going to use Keras to build a convolutional neural network in a few dozen lines of code.\n",
    "\n",
    "You’ll be connecting the concepts from the previous lessons to the methods that Keras provides."
   ]
  },
  {
   "cell_type": "markdown",
   "metadata": {},
   "source": [
    "## Dataset\n",
    "\n",
    "The network you'll build with Keras is similar to the example that you can find in Keras’s GitHub repository that builds out a [convolutional neural network for MNIST](https://github.com/fchollet/keras/blob/master/examples/mnist_cnn.py). \n",
    "\n",
    "However, instead of using the [MNIST](http://yann.lecun.com/exdb/mnist/) dataset, you're going to use the [German Traffic Sign Recognition Benchmark](http://benchmark.ini.rub.de/?section=gtsrb&subsection=news) dataset that you've used previously.\n",
    "\n",
    "You can download pickle files with sanitized traffic sign data here."
   ]
  },
  {
   "cell_type": "markdown",
   "metadata": {},
   "source": [
    "## Overview\n",
    "\n",
    "Here are the steps you'll take to build the network:\n",
    "\n",
    "1. First load the training data and do a train/validation split.\n",
    "2. Preprocess data.\n",
    "3. Build a feedforward neural network to classify traffic signs.\n",
    "4. Build a convolutional neural network to classify traffic signs.\n",
    "5. Evaluate performance of final neural network on testing data.\n",
    "\n",
    "Keep an eye on the network’s accuracy over time. Once the accuracy reaches the 98% range, you can be confident that you’ve built and trained an effective model."
   ]
  },
  {
   "cell_type": "code",
   "execution_count": 1,
   "metadata": {
    "collapsed": false
   },
   "outputs": [],
   "source": [
    "import pickle\n",
    "import numpy as np\n",
    "from sklearn.model_selection import train_test_split\n",
    "import math"
   ]
  },
  {
   "cell_type": "markdown",
   "metadata": {},
   "source": [
    "## Load the Data\n",
    "\n",
    "Start by importing the data from the pickle file."
   ]
  },
  {
   "cell_type": "code",
   "execution_count": 2,
   "metadata": {
    "collapsed": false
   },
   "outputs": [],
   "source": [
    "# TODO: Implement load the data here.\n",
    "training_file = 'train.p'\n",
    "testing_file = 'test.p'\n",
    "\n",
    "with open(training_file, mode='rb') as f_train:\n",
    "    train = pickle.load(f_train)\n",
    "with open(testing_file, mode='rb') as f_test:\n",
    "    test = pickle.load(f_test)\n",
    "\n",
    "# Split validation test set from train test set\n",
    "X_train, X_val, y_train, y_val = train_test_split(train[\"features\"], train[\"labels\"], random_state=0, test_size=0.33)\n",
    "\n",
    "# Test data set\n",
    "X_test, y_test = test[\"features\"], test[\"labels\"]"
   ]
  },
  {
   "cell_type": "markdown",
   "metadata": {},
   "source": [
    "## Validate the Network\n",
    "Split the training data into a training and validation set.\n",
    "\n",
    "Measure the [validation accuracy](https://keras.io/models/sequential/) of the network after two training epochs.\n",
    "\n",
    "Hint: [Use the `train_test_split()` method](http://scikit-learn.org/stable/modules/generated/sklearn.model_selection.train_test_split.html) from scikit-learn."
   ]
  },
  {
   "cell_type": "code",
   "execution_count": 4,
   "metadata": {
    "collapsed": false
   },
   "outputs": [
    {
     "name": "stdout",
     "output_type": "stream",
     "text": [
      "(26270, 32, 32, 3) (26270,)\n",
      "(12939, 32, 32, 3) (12939,)\n"
     ]
    }
   ],
   "source": [
    "# TODO: Use `train_test_split` here.\n",
    "\n",
    "X_train, X_val, y_train, y_val = train_test_split(train['features'], train['labels'], random_state=0, test_size=0.33)\n",
    "\n",
    "print(X_train.shape, y_train.shape)\n",
    "print(X_val.shape, y_val.shape)"
   ]
  },
  {
   "cell_type": "code",
   "execution_count": 5,
   "metadata": {
    "collapsed": true
   },
   "outputs": [],
   "source": [
    "# STOP: Do not change the tests below. Your implementation should pass these tests. \n",
    "assert(X_train.shape[0] == y_train.shape[0]), \"The number of images is not equal to the number of labels.\"\n",
    "assert(X_train.shape[1:] == (32,32,3)), \"The dimensions of the images are not 32 x 32 x 3.\"\n",
    "assert(X_val.shape[0] == y_val.shape[0]), \"The number of images is not equal to the number of labels.\"\n",
    "assert(X_val.shape[1:] == (32,32,3)), \"The dimensions of the images are not 32 x 32 x 3.\""
   ]
  },
  {
   "cell_type": "markdown",
   "metadata": {},
   "source": [
    "## Preprocess the Data\n",
    "\n",
    "Now that you've loaded the training data, preprocess the data such that it's in the range between -0.5 and 0.5."
   ]
  },
  {
   "cell_type": "code",
   "execution_count": 6,
   "metadata": {
    "collapsed": false
   },
   "outputs": [],
   "source": [
    "# TODO: Implement data normalization here.\n",
    "X_train = X_train.astype('float32')\n",
    "X_val = X_val.astype('float32')\n",
    "X_test = X_train.astype('float32')\n",
    "\n",
    "X_train = X_train/255. - .5\n",
    "X_val = X_val/255. - .5\n",
    "X_test = X_test/255 - .5\n"
   ]
  },
  {
   "cell_type": "code",
   "execution_count": 7,
   "metadata": {
    "collapsed": true
   },
   "outputs": [],
   "source": [
    "# STOP: Do not change the tests below. Your implementation should pass these tests. \n",
    "assert(math.isclose(np.min(X_train), -0.5, abs_tol=1e-5) and math.isclose(np.max(X_train), 0.5, abs_tol=1e-5)), \"The range of the training data is: %.1f to %.1f\" % (np.min(X_train), np.max(X_train))\n",
    "assert(math.isclose(np.min(X_val), -0.5, abs_tol=1e-5) and math.isclose(np.max(X_val), 0.5, abs_tol=1e-5)), \"The range of the validation data is: %.1f to %.1f\" % (np.min(X_val), np.max(X_val))"
   ]
  },
  {
   "cell_type": "markdown",
   "metadata": {},
   "source": [
    "## Build a Two-Layer Feedfoward Network\n",
    "\n",
    "The code you've written so far is for data processing, not specific to Keras. Here you're going to build Keras-specific code.\n",
    "\n",
    "Build a two-layer feedforward neural network, with 128 neurons in the fully-connected hidden layer. \n",
    "\n",
    "To get started, review the Keras documentation about [models](https://keras.io/models/sequential/) and [layers](https://keras.io/layers/core/).\n",
    "\n",
    "The Keras example of a [Multi-Layer Perceptron](https://github.com/fchollet/keras/blob/master/examples/mnist_mlp.py) network is similar to what you need to do here. Use that as a guide, but keep in mind that there are a number of differences."
   ]
  },
  {
   "cell_type": "code",
   "execution_count": 8,
   "metadata": {
    "collapsed": false
   },
   "outputs": [
    {
     "name": "stderr",
     "output_type": "stream",
     "text": [
      "Using TensorFlow backend.\n"
     ]
    }
   ],
   "source": [
    "# TODO: Build a two-layer feedforward neural network with Keras here.\n",
    "\n",
    "from keras.models import Sequential\n",
    "from keras.layers import Dense, Input, Activation\n",
    "\n",
    "model = Sequential()\n",
    "hidden1 = model.add(Dense(128, activation='relu', input_dim=3072))\n",
    "output = model.add(Dense(43, activation='softmax'))"
   ]
  },
  {
   "cell_type": "code",
   "execution_count": 9,
   "metadata": {
    "collapsed": true
   },
   "outputs": [],
   "source": [
    "# STOP: Do not change the tests below. Your implementation should pass these tests.\n",
    "dense_layers = []\n",
    "for l in model.layers:\n",
    "    if type(l) == Dense:\n",
    "        dense_layers.append(l)\n",
    "assert(len(dense_layers) == 2), \"There should be 2 Dense layers.\"\n",
    "d1 = dense_layers[0]\n",
    "d2 = dense_layers[1]\n",
    "assert(d1.input_shape == (None, 3072))\n",
    "assert(d1.output_shape == (None, 128))\n",
    "assert(d2.input_shape == (None, 128))\n",
    "assert(d2.output_shape == (None, 43))\n",
    "\n",
    "last_layer = model.layers[-1]\n",
    "assert(last_layer.activation.__name__ == 'softmax'), \"Last layer should be softmax activation, is {}.\".format(last_layer.activation.__name__)"
   ]
  },
  {
   "cell_type": "code",
   "execution_count": 10,
   "metadata": {
    "collapsed": false
   },
   "outputs": [
    {
     "name": "stdout",
     "output_type": "stream",
     "text": [
      "dense_1 (None, 3072) (None, 128) <function relu at 0x12ee43488>\n",
      "dense_2 (None, 128) (None, 43) <function softmax at 0x12ee43268>\n"
     ]
    }
   ],
   "source": [
    "# Debugging\n",
    "for l in model.layers:\n",
    "    print(l.name, l.input_shape, l.output_shape, l.activation)"
   ]
  },
  {
   "cell_type": "markdown",
   "metadata": {},
   "source": [
    "## Train the Network\n",
    "Compile and train the network for 2 epochs. [Use the `adam` optimizer, with `categorical_crossentropy` loss.](https://keras.io/models/sequential/)\n",
    "\n",
    "Hint 1: In order to use categorical cross entropy, you will need to [one-hot encode the labels](https://github.com/fchollet/keras/blob/master/keras/utils/np_utils.py).\n",
    "\n",
    "Hint 2: In order to pass the input images to the fully-connected hidden layer, you will need to [reshape the input](https://github.com/fchollet/keras/blob/master/examples/mnist_mlp.py).\n",
    "\n",
    "Hint 3: Keras's `.fit()` method returns a `History.history` object, which the tests below use. Save that to a variable named `history`."
   ]
  },
  {
   "cell_type": "code",
   "execution_count": 15,
   "metadata": {
    "collapsed": false
   },
   "outputs": [
    {
     "name": "stdout",
     "output_type": "stream",
     "text": [
      "(26270, 3072) (26270, 43)\n",
      "(12939, 3072) (12939, 43)\n",
      "Train on 26270 samples, validate on 12939 samples\n",
      "Epoch 1/10\n",
      "26270/26270 [==============================] - 22s - loss: 0.2526 - acc: 0.9242 - val_loss: 0.2819 - val_acc: 0.9240\n",
      "Epoch 2/10\n",
      "26270/26270 [==============================] - 13s - loss: 0.2609 - acc: 0.9263 - val_loss: 0.3239 - val_acc: 0.9178\n",
      "Epoch 3/10\n",
      "26270/26270 [==============================] - 13s - loss: 0.2207 - acc: 0.9372 - val_loss: 0.3045 - val_acc: 0.9140\n",
      "Epoch 4/10\n",
      "26270/26270 [==============================] - 11s - loss: 0.1935 - acc: 0.9424 - val_loss: 0.3022 - val_acc: 0.9158\n",
      "Epoch 5/10\n",
      "26270/26270 [==============================] - 10s - loss: 0.2292 - acc: 0.9338 - val_loss: 0.3235 - val_acc: 0.9139\n",
      "Epoch 6/10\n",
      "26270/26270 [==============================] - 10s - loss: 0.2034 - acc: 0.9403 - val_loss: 0.3151 - val_acc: 0.9182\n",
      "Epoch 7/10\n",
      "26270/26270 [==============================] - 10s - loss: 0.1801 - acc: 0.9474 - val_loss: 0.2637 - val_acc: 0.9304\n",
      "Epoch 8/10\n",
      "26270/26270 [==============================] - 10s - loss: 0.1884 - acc: 0.9445 - val_loss: 0.3830 - val_acc: 0.9075\n",
      "Epoch 9/10\n",
      "26270/26270 [==============================] - 10s - loss: 0.2040 - acc: 0.9408 - val_loss: 0.3533 - val_acc: 0.9090\n",
      "Epoch 10/10\n",
      "26270/26270 [==============================] - 11s - loss: 0.1662 - acc: 0.9520 - val_loss: 0.3463 - val_acc: 0.9117\n"
     ]
    }
   ],
   "source": [
    "# TODO: Compile and train the model here.\n",
    "\n",
    "# model.summary()\n",
    "\n",
    "from keras.utils import np_utils\n",
    "\n",
    "# one-hot encode the labels\n",
    "\n",
    "Y_train = np_utils.to_categorical(y_train, 43)\n",
    "Y_val = np_utils.to_categorical(y_val, 43)\n",
    "\n",
    "# reshape the input\n",
    "X_train_flat = X_train.reshape(-1, 32*32*3)\n",
    "X_val_flat = X_val.reshape(-1, 32*32*3)\n",
    "\n",
    "print(X_train_flat.shape, Y_train.shape)\n",
    "print(X_val_flat.shape, Y_val.shape)\n",
    "\n",
    "model.compile(optimizer=\"adam\", loss=\"categorical_crossentropy\", metrics=['accuracy'])\n",
    "history = model.fit(X_train_flat, Y_train, batch_size=32, nb_epoch=10, verbose=1, validation_data=(X_val_flat, Y_val))"
   ]
  },
  {
   "cell_type": "code",
   "execution_count": 23,
   "metadata": {
    "collapsed": false
   },
   "outputs": [
    {
     "name": "stdout",
     "output_type": "stream",
     "text": [
      "[0.92417205939240266, 0.9263037685618275, 0.93722877804662141, 0.94240578604053082, 0.93380281687418132, 0.94031214313812028, 0.94739246288995849, 0.94446136274399484, 0.94084507039077026, 0.9519984773596657]\n",
      "0.95199847736\n",
      "[0.92402813202705181, 0.91784527397328974, 0.91398098773460257, 0.91575855941711282, 0.91390370200927606, 0.91823170259992237, 0.93036556150382743, 0.90748898677953438, 0.9089574155607385, 0.91173970170013319]\n",
      "0.9117397017\n"
     ]
    }
   ],
   "source": [
    "print(history.history['acc'])\n",
    "\n",
    "# accuracy of the last epoch\n",
    "print(history.history['acc'][-1])\n",
    "\n",
    "print(history.history['val_acc'])\n",
    "\n",
    "# accuracy of the last epoch\n",
    "print(history.history['val_acc'][-1])"
   ]
  },
  {
   "cell_type": "code",
   "execution_count": 16,
   "metadata": {
    "collapsed": false
   },
   "outputs": [],
   "source": [
    "# STOP: Do not change the tests below. Your implementation should pass these tests.\n",
    "assert(history.history['acc'][-1] > 0.92), \"The training accuracy was: %.3f\" % history.history['acc'][-1]\n",
    "assert(history.history['val_acc'][-1] > 0.9), \"The validation accuracy is: %.3f\" % history.history['val_acc'][-1]"
   ]
  },
  {
   "cell_type": "markdown",
   "metadata": {},
   "source": [
    "**Validation Accuracy**: (0.911)"
   ]
  },
  {
   "cell_type": "markdown",
   "metadata": {},
   "source": [
    "## Congratulations\n",
    "You've built a feedforward neural network in Keras!\n",
    "\n",
    "Don't stop here! Next, you'll add a convolutional layer to drive.py."
   ]
  },
  {
   "cell_type": "markdown",
   "metadata": {},
   "source": [
    "## Convolutions\n",
    "Build a new network, similar to your existing network. Before the hidden layer, add a 3x3 [convolutional layer](https://keras.io/layers/convolutional/#convolution2d) with 32 filters and valid padding.\n",
    "\n",
    "Then compile and train the network.\n",
    "\n",
    "Hint 1: The Keras example of a [convolutional neural network](https://github.com/fchollet/keras/blob/master/examples/mnist_cnn.py) for MNIST would be a good example to review.\n",
    "\n",
    "Hint 2: Now that the first layer of the network is a convolutional layer, you no longer need to reshape the input images before passing them to the network. You might need to reload your training data to recover the original shape.\n",
    "\n",
    "Hint 3: Add a [`Flatten()` layer](https://keras.io/layers/core/#flatten) between the convolutional layer and the fully-connected hidden layer."
   ]
  },
  {
   "cell_type": "code",
   "execution_count": 27,
   "metadata": {
    "collapsed": false
   },
   "outputs": [
    {
     "name": "stdout",
     "output_type": "stream",
     "text": [
      "____________________________________________________________________________________________________\n",
      "Layer (type)                     Output Shape          Param #     Connected to                     \n",
      "====================================================================================================\n",
      "convolution2d_2 (Convolution2D)  (None, 30, 30, 32)    896         convolution2d_input_2[0][0]      \n",
      "____________________________________________________________________________________________________\n",
      "flatten_2 (Flatten)              (None, 28800)         0           convolution2d_2[0][0]            \n",
      "____________________________________________________________________________________________________\n",
      "dense_5 (Dense)                  (None, 128)           3686528     flatten_2[0][0]                  \n",
      "____________________________________________________________________________________________________\n",
      "dense_6 (Dense)                  (None, 43)            5547        dense_5[0][0]                    \n",
      "====================================================================================================\n",
      "Total params: 3692971\n",
      "____________________________________________________________________________________________________\n",
      "Train on 26270 samples, validate on 12939 samples\n",
      "Epoch 1/20\n",
      "26270/26270 [==============================] - 63s - loss: 1.2762 - acc: 0.6655 - val_loss: 0.4982 - val_acc: 0.8639\n",
      "Epoch 2/20\n",
      "26270/26270 [==============================] - 58s - loss: 0.3168 - acc: 0.9217 - val_loss: 0.2605 - val_acc: 0.9380\n",
      "Epoch 3/20\n",
      "26270/26270 [==============================] - 54s - loss: 0.1643 - acc: 0.9626 - val_loss: 0.2044 - val_acc: 0.9478\n",
      "Epoch 4/20\n",
      "26270/26270 [==============================] - 61s - loss: 0.1075 - acc: 0.9751 - val_loss: 0.1745 - val_acc: 0.9570\n",
      "Epoch 5/20\n",
      "26270/26270 [==============================] - 65s - loss: 0.0757 - acc: 0.9821 - val_loss: 0.1578 - val_acc: 0.9628\n",
      "Epoch 6/20\n",
      "26270/26270 [==============================] - 58s - loss: 0.0531 - acc: 0.9890 - val_loss: 0.1437 - val_acc: 0.9661\n",
      "Epoch 7/20\n",
      "26270/26270 [==============================] - 59s - loss: 0.0453 - acc: 0.9900 - val_loss: 0.1755 - val_acc: 0.9559\n",
      "Epoch 8/20\n",
      "26270/26270 [==============================] - 60s - loss: 0.0501 - acc: 0.9871 - val_loss: 0.1431 - val_acc: 0.9672\n",
      "Epoch 9/20\n",
      "26270/26270 [==============================] - 58s - loss: 0.0294 - acc: 0.9942 - val_loss: 0.1332 - val_acc: 0.9710\n",
      "Epoch 10/20\n",
      "26270/26270 [==============================] - 63s - loss: 0.0234 - acc: 0.9945 - val_loss: 0.1282 - val_acc: 0.9729\n",
      "Epoch 11/20\n",
      "26270/26270 [==============================] - 58s - loss: 0.0151 - acc: 0.9974 - val_loss: 0.1208 - val_acc: 0.9730\n",
      "Epoch 12/20\n",
      "26270/26270 [==============================] - 54s - loss: 0.0122 - acc: 0.9980 - val_loss: 0.1228 - val_acc: 0.9744\n",
      "Epoch 13/20\n",
      "26270/26270 [==============================] - 56s - loss: 0.0352 - acc: 0.9909 - val_loss: 0.1754 - val_acc: 0.9631\n",
      "Epoch 14/20\n",
      "26270/26270 [==============================] - 51s - loss: 0.0392 - acc: 0.9886 - val_loss: 0.1703 - val_acc: 0.9644\n",
      "Epoch 15/20\n",
      "26270/26270 [==============================] - 53s - loss: 0.0281 - acc: 0.9928 - val_loss: 0.1357 - val_acc: 0.9725\n",
      "Epoch 16/20\n",
      "26270/26270 [==============================] - 55s - loss: 0.0135 - acc: 0.9970 - val_loss: 0.1144 - val_acc: 0.9780\n",
      "Epoch 17/20\n",
      "26270/26270 [==============================] - 57s - loss: 0.0070 - acc: 0.9987 - val_loss: 0.1457 - val_acc: 0.9699\n",
      "Epoch 18/20\n",
      "26270/26270 [==============================] - 55s - loss: 0.0076 - acc: 0.9986 - val_loss: 0.1222 - val_acc: 0.9774\n",
      "Epoch 19/20\n",
      "26270/26270 [==============================] - 55s - loss: 0.0058 - acc: 0.9988 - val_loss: 0.1141 - val_acc: 0.9784\n",
      "Epoch 20/20\n",
      "26270/26270 [==============================] - 60s - loss: 0.0027 - acc: 0.9997 - val_loss: 0.1169 - val_acc: 0.9794\n"
     ]
    }
   ],
   "source": [
    "# TODO: Re-construct the network and add a convolutional layer before the first fully-connected layer.\n",
    "\n",
    "from keras.layers import Convolution2D, Flatten\n",
    "\n",
    "model = Sequential()\n",
    "model.add(Convolution2D(32, 3, 3, activation='relu', border_mode='valid', input_shape=(32,32,3)))\n",
    "model.add(Flatten())\n",
    "model.add(Dense(128, activation='relu'))\n",
    "model.add(Dense(43, activation='softmax'))\n",
    "model.summary()\n",
    "\n",
    "# TODO: Compile and train the model here.\n",
    "model.compile(loss='categorical_crossentropy',\n",
    "              optimizer='adam',\n",
    "              metrics=['accuracy'])\n",
    "\n",
    "history = model.fit(X_train, Y_train, batch_size=128, nb_epoch=20,\n",
    "          verbose=1, validation_data=(X_val, Y_val))\n"
   ]
  },
  {
   "cell_type": "code",
   "execution_count": 28,
   "metadata": {
    "collapsed": false
   },
   "outputs": [],
   "source": [
    "# STOP: Do not change the tests below. Your implementation should pass these tests.\n",
    "assert(history.history['val_acc'][-1] > 0.95), \"The validation accuracy is: %.3f\" % history.history['val_acc'][-1]"
   ]
  },
  {
   "cell_type": "markdown",
   "metadata": {},
   "source": [
    "**Validation Accuracy**: (0.9794)"
   ]
  },
  {
   "cell_type": "markdown",
   "metadata": {},
   "source": [
    "## Pooling\n",
    "Re-construct your network and add a 2x2 [pooling layer](https://keras.io/layers/pooling/#maxpooling2d) immediately following your convolutional layer.\n",
    "\n",
    "Then compile and train the network."
   ]
  },
  {
   "cell_type": "code",
   "execution_count": 29,
   "metadata": {
    "collapsed": false
   },
   "outputs": [
    {
     "name": "stdout",
     "output_type": "stream",
     "text": [
      "____________________________________________________________________________________________________\n",
      "Layer (type)                     Output Shape          Param #     Connected to                     \n",
      "====================================================================================================\n",
      "convolution2d_3 (Convolution2D)  (None, 30, 30, 32)    896         convolution2d_input_3[0][0]      \n",
      "____________________________________________________________________________________________________\n",
      "maxpooling2d_1 (MaxPooling2D)    (None, 15, 15, 32)    0           convolution2d_3[0][0]            \n",
      "____________________________________________________________________________________________________\n",
      "flatten_3 (Flatten)              (None, 7200)          0           maxpooling2d_1[0][0]             \n",
      "____________________________________________________________________________________________________\n",
      "dense_7 (Dense)                  (None, 128)           921728      flatten_3[0][0]                  \n",
      "____________________________________________________________________________________________________\n",
      "dense_8 (Dense)                  (None, 43)            5547        dense_7[0][0]                    \n",
      "====================================================================================================\n",
      "Total params: 928171\n",
      "____________________________________________________________________________________________________\n",
      "Train on 26270 samples, validate on 12939 samples\n",
      "Epoch 1/20\n",
      "26270/26270 [==============================] - 39s - loss: 1.7844 - acc: 0.5341 - val_loss: 0.8159 - val_acc: 0.7791\n",
      "Epoch 2/20\n",
      "26270/26270 [==============================] - 37s - loss: 0.5650 - acc: 0.8574 - val_loss: 0.4084 - val_acc: 0.8986\n",
      "Epoch 3/20\n",
      "26270/26270 [==============================] - 41s - loss: 0.3103 - acc: 0.9260 - val_loss: 0.2567 - val_acc: 0.9447\n",
      "Epoch 4/20\n",
      "26270/26270 [==============================] - 37s - loss: 0.1966 - acc: 0.9576 - val_loss: 0.2418 - val_acc: 0.9294\n",
      "Epoch 5/20\n",
      "26270/26270 [==============================] - 36s - loss: 0.1426 - acc: 0.9691 - val_loss: 0.1770 - val_acc: 0.9586\n",
      "Epoch 6/20\n",
      "26270/26270 [==============================] - 37s - loss: 0.1056 - acc: 0.9786 - val_loss: 0.1639 - val_acc: 0.9594\n",
      "Epoch 7/20\n",
      "26270/26270 [==============================] - 35s - loss: 0.0872 - acc: 0.9815 - val_loss: 0.1485 - val_acc: 0.9643\n",
      "Epoch 8/20\n",
      "26270/26270 [==============================] - 37s - loss: 0.0675 - acc: 0.9869 - val_loss: 0.1372 - val_acc: 0.9670\n",
      "Epoch 9/20\n",
      "26270/26270 [==============================] - 37s - loss: 0.0596 - acc: 0.9878 - val_loss: 0.1512 - val_acc: 0.9634\n",
      "Epoch 10/20\n",
      "26270/26270 [==============================] - 38s - loss: 0.0509 - acc: 0.9895 - val_loss: 0.1161 - val_acc: 0.9736\n",
      "Epoch 11/20\n",
      "26270/26270 [==============================] - 34s - loss: 0.0416 - acc: 0.9922 - val_loss: 0.1286 - val_acc: 0.9701\n",
      "Epoch 12/20\n",
      "26270/26270 [==============================] - 34s - loss: 0.0369 - acc: 0.9926 - val_loss: 0.1250 - val_acc: 0.9710\n",
      "Epoch 13/20\n",
      "26270/26270 [==============================] - 37s - loss: 0.0440 - acc: 0.9903 - val_loss: 0.1048 - val_acc: 0.9760\n",
      "Epoch 14/20\n",
      "26270/26270 [==============================] - 38s - loss: 0.0250 - acc: 0.9959 - val_loss: 0.1075 - val_acc: 0.9775\n",
      "Epoch 15/20\n",
      "26270/26270 [==============================] - 41s - loss: 0.0194 - acc: 0.9973 - val_loss: 0.0990 - val_acc: 0.9805\n",
      "Epoch 16/20\n",
      "26270/26270 [==============================] - 38s - loss: 0.0171 - acc: 0.9976 - val_loss: 0.1228 - val_acc: 0.9740\n",
      "Epoch 17/20\n",
      "26270/26270 [==============================] - 38s - loss: 0.0571 - acc: 0.9855 - val_loss: 0.1368 - val_acc: 0.9677\n",
      "Epoch 18/20\n",
      "26270/26270 [==============================] - 37s - loss: 0.0271 - acc: 0.9936 - val_loss: 0.1038 - val_acc: 0.9781\n",
      "Epoch 19/20\n",
      "26270/26270 [==============================] - 36s - loss: 0.0159 - acc: 0.9973 - val_loss: 0.0985 - val_acc: 0.9805\n",
      "Epoch 20/20\n",
      "26270/26270 [==============================] - 42s - loss: 0.0171 - acc: 0.9969 - val_loss: 0.1095 - val_acc: 0.9774\n"
     ]
    }
   ],
   "source": [
    "# TODO: Re-construct the network and add a pooling layer after the convolutional layer.\n",
    "from keras.layers import MaxPooling2D\n",
    "\n",
    "model = Sequential()\n",
    "\n",
    "model.add(Convolution2D(32, 3, 3, activation='relu', border_mode='valid', input_shape=(32,32,3)))\n",
    "model.add(MaxPooling2D(pool_size=(2,2)))\n",
    "model.add(Flatten())\n",
    "model.add(Dense(128, activation='relu'))\n",
    "model.add(Dense(43, activation='softmax'))\n",
    "model.summary()\n",
    "\n",
    "# TODO: Compile and train the model here.\n",
    "model.compile(loss='categorical_crossentropy',\n",
    "              optimizer='adam',\n",
    "              metrics=['accuracy'])\n",
    "\n",
    "history = model.fit(X_train, Y_train, batch_size=128, nb_epoch=20,\n",
    "          verbose=1, validation_data=(X_val, Y_val))"
   ]
  },
  {
   "cell_type": "code",
   "execution_count": 30,
   "metadata": {
    "collapsed": true
   },
   "outputs": [],
   "source": [
    "# STOP: Do not change the tests below. Your implementation should pass these tests.\n",
    "assert(history.history['val_acc'][-1] > 0.95), \"The validation accuracy is: %.3f\" % history.history['val_acc'][-1]"
   ]
  },
  {
   "cell_type": "markdown",
   "metadata": {},
   "source": [
    "**Validation Accuracy**: (0.9774)"
   ]
  },
  {
   "cell_type": "markdown",
   "metadata": {},
   "source": [
    "## Dropout\n",
    "Re-construct your network and add [dropout](https://keras.io/layers/core/#dropout) after the pooling layer. Set the dropout rate to 50%."
   ]
  },
  {
   "cell_type": "code",
   "execution_count": 32,
   "metadata": {
    "collapsed": false
   },
   "outputs": [
    {
     "name": "stdout",
     "output_type": "stream",
     "text": [
      "____________________________________________________________________________________________________\n",
      "Layer (type)                     Output Shape          Param #     Connected to                     \n",
      "====================================================================================================\n",
      "convolution2d_4 (Convolution2D)  (None, 30, 30, 32)    896         convolution2d_input_4[0][0]      \n",
      "____________________________________________________________________________________________________\n",
      "maxpooling2d_2 (MaxPooling2D)    (None, 15, 15, 32)    0           convolution2d_4[0][0]            \n",
      "____________________________________________________________________________________________________\n",
      "dropout_1 (Dropout)              (None, 15, 15, 32)    0           maxpooling2d_2[0][0]             \n",
      "____________________________________________________________________________________________________\n",
      "flatten_4 (Flatten)              (None, 7200)          0           dropout_1[0][0]                  \n",
      "____________________________________________________________________________________________________\n",
      "dense_9 (Dense)                  (None, 128)           921728      flatten_4[0][0]                  \n",
      "____________________________________________________________________________________________________\n",
      "dense_10 (Dense)                 (None, 43)            5547        dense_9[0][0]                    \n",
      "====================================================================================================\n",
      "Total params: 928171\n",
      "____________________________________________________________________________________________________\n",
      "Train on 26270 samples, validate on 12939 samples\n",
      "Epoch 1/20\n",
      "26270/26270 [==============================] - 43s - loss: 1.8325 - acc: 0.5180 - val_loss: 0.8056 - val_acc: 0.8035\n",
      "Epoch 2/20\n",
      "26270/26270 [==============================] - 41s - loss: 0.6206 - acc: 0.8350 - val_loss: 0.4311 - val_acc: 0.8837\n",
      "Epoch 3/20\n",
      "26270/26270 [==============================] - 41s - loss: 0.3699 - acc: 0.9044 - val_loss: 0.2807 - val_acc: 0.9416\n",
      "Epoch 4/20\n",
      "26270/26270 [==============================] - 43s - loss: 0.2627 - acc: 0.9329 - val_loss: 0.2155 - val_acc: 0.9562\n",
      "Epoch 5/20\n",
      "26270/26270 [==============================] - 42s - loss: 0.2045 - acc: 0.9469 - val_loss: 0.1786 - val_acc: 0.9612\n",
      "Epoch 6/20\n",
      "26270/26270 [==============================] - 41s - loss: 0.1682 - acc: 0.9570 - val_loss: 0.1629 - val_acc: 0.9614\n",
      "Epoch 7/20\n",
      "26270/26270 [==============================] - 40s - loss: 0.1488 - acc: 0.9613 - val_loss: 0.1374 - val_acc: 0.9710\n",
      "Epoch 8/20\n",
      "26270/26270 [==============================] - 44s - loss: 0.1260 - acc: 0.9675 - val_loss: 0.1635 - val_acc: 0.9589\n",
      "Epoch 9/20\n",
      "26270/26270 [==============================] - 43s - loss: 0.1200 - acc: 0.9667 - val_loss: 0.1167 - val_acc: 0.9770\n",
      "Epoch 10/20\n",
      "26270/26270 [==============================] - 42s - loss: 0.0994 - acc: 0.9747 - val_loss: 0.1202 - val_acc: 0.9733\n",
      "Epoch 11/20\n",
      "26270/26270 [==============================] - 43s - loss: 0.0955 - acc: 0.9745 - val_loss: 0.1168 - val_acc: 0.9743\n",
      "Epoch 12/20\n",
      "26270/26270 [==============================] - 43s - loss: 0.0936 - acc: 0.9748 - val_loss: 0.1095 - val_acc: 0.9768\n",
      "Epoch 13/20\n",
      "26270/26270 [==============================] - 42s - loss: 0.0859 - acc: 0.9756 - val_loss: 0.1158 - val_acc: 0.9758\n",
      "Epoch 14/20\n",
      "26270/26270 [==============================] - 42s - loss: 0.0748 - acc: 0.9788 - val_loss: 0.1040 - val_acc: 0.9770\n",
      "Epoch 15/20\n",
      "26270/26270 [==============================] - 51s - loss: 0.0701 - acc: 0.9808 - val_loss: 0.1065 - val_acc: 0.9774\n",
      "Epoch 16/20\n",
      "26270/26270 [==============================] - 43s - loss: 0.0706 - acc: 0.9810 - val_loss: 0.0958 - val_acc: 0.9800\n",
      "Epoch 17/20\n",
      "26270/26270 [==============================] - 45s - loss: 0.0652 - acc: 0.9820 - val_loss: 0.1210 - val_acc: 0.9715\n",
      "Epoch 18/20\n",
      "26270/26270 [==============================] - 40s - loss: 0.0643 - acc: 0.9817 - val_loss: 0.0997 - val_acc: 0.9797\n",
      "Epoch 19/20\n",
      "26270/26270 [==============================] - 42s - loss: 0.0552 - acc: 0.9848 - val_loss: 0.0985 - val_acc: 0.9803\n",
      "Epoch 20/20\n",
      "26270/26270 [==============================] - 42s - loss: 0.0555 - acc: 0.9845 - val_loss: 0.0936 - val_acc: 0.9802\n"
     ]
    }
   ],
   "source": [
    "# TODO: Re-construct the network and add dropout after the pooling layer.\n",
    "\n",
    "from keras.layers import Dropout\n",
    "model = Sequential()\n",
    "\n",
    "model.add(Convolution2D(32, 3, 3, activation='relu', border_mode='valid', input_shape=(32,32,3)))\n",
    "model.add(MaxPooling2D(pool_size=(2,2)))\n",
    "model.add(Dropout(0.5))\n",
    "model.add(Flatten())\n",
    "model.add(Dense(128, activation='relu'))\n",
    "model.add(Dense(43, activation='softmax'))\n",
    "model.summary()\n",
    "\n",
    "# TODO: Compile and train the model here.\n",
    "model.compile(loss='categorical_crossentropy',\n",
    "              optimizer='adam',\n",
    "              metrics=['accuracy'])\n",
    "\n",
    "history = model.fit(X_train, Y_train, batch_size=128, nb_epoch=20,\n",
    "          verbose=1, validation_data=(X_val, Y_val))\n"
   ]
  },
  {
   "cell_type": "code",
   "execution_count": 33,
   "metadata": {
    "collapsed": true
   },
   "outputs": [],
   "source": [
    "# STOP: Do not change the tests below. Your implementation should pass these tests.\n",
    "assert(history.history['val_acc'][-1] > 0.95), \"The validation accuracy is: %.3f\" % history.history['val_acc'][-1]"
   ]
  },
  {
   "cell_type": "markdown",
   "metadata": {
    "collapsed": true
   },
   "source": [
    "**Validation Accuracy**: (0.9802)"
   ]
  },
  {
   "cell_type": "markdown",
   "metadata": {},
   "source": [
    "## Optimization\n",
    "Congratulations! You've built a neural network with convolutions, pooling, dropout, and fully-connected layers, all in just a few lines of code.\n",
    "\n",
    "Have fun with the model and see how well you can do! Add more layers, or regularization, or different padding, or batches, or more training epochs.\n",
    "\n",
    "What is the best validation accuracy you can achieve?"
   ]
  },
  {
   "cell_type": "code",
   "execution_count": null,
   "metadata": {
    "collapsed": true
   },
   "outputs": [],
   "source": []
  },
  {
   "cell_type": "markdown",
   "metadata": {},
   "source": [
    "**Best Validation Accuracy:** (fill in here)"
   ]
  },
  {
   "cell_type": "markdown",
   "metadata": {},
   "source": [
    "## Testing\n",
    "Once you've picked out your best model, it's time to test it.\n",
    "\n",
    "Load up the test data and use the [`evaluate()` method](https://keras.io/models/model/#evaluate) to see how well it does.\n",
    "\n",
    "Hint 1: After you load your test data, don't forget to normalize the input and one-hot encode the output, so it matches the training data.\n",
    "\n",
    "Hint 2: The `evaluate()` method should return an array of numbers. Use the `metrics_names()` method to get the labels."
   ]
  },
  {
   "cell_type": "code",
   "execution_count": 34,
   "metadata": {
    "collapsed": false
   },
   "outputs": [
    {
     "name": "stdout",
     "output_type": "stream",
     "text": [
      "12630/12630 [==============================] - 14s    \n",
      "test score: 0.473330286238\n",
      "test accuracy: 0.906809184472\n"
     ]
    }
   ],
   "source": [
    "with open('./test.p', mode='rb') as f:\n",
    "    test = pickle.load(f)\n",
    "    \n",
    "X_test = test['features']\n",
    "y_test = test['labels']\n",
    "X_test = X_test.astype('float32')\n",
    "X_test /= 255\n",
    "X_test -= 0.5\n",
    "Y_test = np_utils.to_categorical(y_test, 43)\n",
    "\n",
    "score = model.evaluate(X_test, Y_test)\n",
    "print(\"test score:\", score[0])\n",
    "print(\"test accuracy:\", score[1])"
   ]
  },
  {
   "cell_type": "markdown",
   "metadata": {},
   "source": [
    "**Test Accuracy:** (0.9068)"
   ]
  },
  {
   "cell_type": "markdown",
   "metadata": {},
   "source": [
    "## Summary\n",
    "Keras is a great tool to use if you want to quickly build a neural network and evaluate performance."
   ]
  }
 ],
 "metadata": {
  "anaconda-cloud": {},
  "kernelspec": {
   "display_name": "Python 3",
   "language": "python",
   "name": "python3"
  },
  "language_info": {
   "codemirror_mode": {
    "name": "ipython",
    "version": 3
   },
   "file_extension": ".py",
   "mimetype": "text/x-python",
   "name": "python",
   "nbconvert_exporter": "python",
   "pygments_lexer": "ipython3",
   "version": "3.5.2"
  }
 },
 "nbformat": 4,
 "nbformat_minor": 0
}
